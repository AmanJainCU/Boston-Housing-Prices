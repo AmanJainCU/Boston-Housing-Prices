{
 "cells": [
  {
   "cell_type": "markdown",
   "metadata": {},
   "source": [
    "# Machine Learning\n",
    "## Model Evaluation & Validation\n",
    "## Project: Predicting Boston Housing Prices\n",
    "\n"
    ]
  },
  {
   "cell_type": "markdown",
   "metadata": {},
   "source": [
    "## Getting Started\n",
    "In this project, we will evaluate the performance and predictive power of a model that has been trained and tested on data collected from homes in suburbs of Boston, Massachusetts. A model trained on this data that is seen as a *good fit* could then be used to make certain predictions about a home — in particular, its monetary value. This model would prove to be invaluable for someone like a real estate agent who could make use of such information on a daily basis.\n",
    "\n",
    "- 16 data points have an `'MEDV'` value of 50.0. These data points likely contain **missing or censored values** and have been removed.\n",
    "- 1 data point has an `'RM'` value of 8.78. This data point can be considered an **outlier** and has been removed.\n",
    "- The features `'RM'`, `'LSTAT'`, `'PTRATIO'`, and `'MEDV'` are essential. The remaining **non-relevant features** have been excluded.\n",
    "- The feature `'MEDV'` has been **multiplicatively scaled** to account for 35 years of market inflation.\n"
    ]
  },
  {
   "cell_type": "code",
   "execution_count": 1,
   "metadata": {},
   "outputs": [
    {
     "name": "stdout",
     "output_type": "stream",
     "text": [
      "Boston housing dataset has 489 data points with 4 variables each.\n"
     ]
    }
   ],
   "source": [
    "# Import libraries necessary for this project\n",
    "import numpy as np\n",
    "import pandas as pd\n",
    "from sklearn.cross_validation import ShuffleSplit\n",
    "\n",
    "# Import supplementary visualizations code visuals.py\n",
    "import visuals as vs\n",
    "\n",
    "# Pretty display for notebooks\n",
    "%matplotlib inline\n",
    "\n",
    "# Load the Boston housing dataset\n",
    "data = pd.read_csv('housing.csv')\n",
    "prices = data['MEDV']\n",
    "features = data.drop('MEDV', axis = 1)\n",
    "    \n",
    "# Success\n",
    "print \"Boston housing dataset has {} data points with {} variables each.\".format(*data.shape)"
   ]
  },
  {
   "cell_type": "markdown",
   "metadata": {},
   "source": [
    "## Data Exploration\n"
   ]
  },
  {
   "cell_type": "markdown",
   "metadata": {},
   "source": [
    "### Implementation: Calculate Statistics\n",
    
    "In the code cell below, we will need to implement the following:\n",
    "- Calculate the minimum, maximum, mean, median, and standard deviation of `'MEDV'`, which is stored in `prices`.\n",
    "  - Store each calculation in their respective variable."
   ]
  },
  {
   "cell_type": "code",
   "execution_count": 2,
   "metadata": {},
   "outputs": [
    {
     "name": "stdout",
     "output_type": "stream",
     "text": [
      "Statistics for Boston housing dataset:\n",
      "\n",
      "Minimum price: $105,000.00\n",
      "Maximum price: $1,024,800.00\n",
      "Mean price: $454,342.94\n",
      "Median price $438,900.00\n",
      "Standard deviation of prices: $165,171.13\n"
     ]
    }
   ],
   "source": [
    "# TODO: Minimum price of the data\n",
    "minimum_price = np.min(prices)\n",
    "\n",
    "# TODO: Maximum price of the data\n",
    "maximum_price = np.max(prices)\n",
    "\n",
    "# TODO: Mean price of the data\n",
    "mean_price = np.mean(prices)\n",
    "\n",
    "# TODO: Median price of the data\n",
    "median_price = np.median(prices)\n",
    "\n",
    "# TODO: Standard deviation of prices of the data\n",
    "std_price = np.std(prices)\n",
    "\n",
    "# Show the calculated statistics\n",
    "print \"Statistics for Boston housing dataset:\\n\"\n",
    "print \"Minimum price: ${:,.2f}\".format(minimum_price)\n",
    "print \"Maximum price: ${:,.2f}\".format(maximum_price)\n",
    "print \"Mean price: ${:,.2f}\".format(mean_price)\n",
    "print \"Median price ${:,.2f}\".format(median_price)\n",
    "print \"Standard deviation of prices: ${:,.2f}\".format(std_price)"
   ]
  },
  {
   "cell_type": "markdown",
   "metadata": {},
   "source": [
    "### Question 1 - Feature Observation\n",
    "As a reminder, we are using three features from the Boston housing dataset: `'RM'`, `'LSTAT'`, and `'PTRATIO'`. For each data point (neighborhood):\n",
    "- `'RM'` is the average number of rooms among homes in the neighborhood.\n",
    "- `'LSTAT'` is the percentage of homeowners in the neighborhood considered \"lower class\" (working poor).\n",
    "- `'PTRATIO'` is the ratio of students to teachers in primary and secondary schools in the neighborhood.\n",
    "\n",
    "\n",
    "** Using your intuition, for each of the three features above, do you think that an increase in the value of that feature would lead to an **increase** in the value of `'MEDV'` or a **decrease** in the value of `'MEDV'`? Justify your answer for each.**\n",
    "\n",
    
    "* Would you expect a home that has an `'RM'` value(number of rooms) of 6 be worth more or less than a home that has an `'RM'` value of 7?\n",
    "* Would you expect a neighborhood that has an `'LSTAT'` value(percent of lower class workers) of 15 have home prices be worth more or less than a neighborhood that has an `'LSTAT'` value of 20?\n",
    "* Would you expect a neighborhood that has an `'PTRATIO'` value(ratio of students to teachers) of 10 have home prices be worth more or less than a neighborhood that has an `'PTRATIO'` value of 15?"
   ]
  },
  {
   "cell_type": "markdown",
   "metadata": {},
   "source": [
    "**Answer: ** (a) More is the number of rooms, bigger is the house and hence higher is the house price.\n",
    "             (b) Higher percentage of lower class workers means the cheaper locality and hence lower is the house price.\n",
    "             (c) Lower is the students to teachers ratio, better is the school. Hence, better locality and higher house prices."
   ]
  },
  {
   "cell_type": "markdown",
   "metadata": {},
   "source": [
    "----\n",
    "\n",
    "## Developing a Model\n" ]
  },
  
  {
   "cell_type": "code",
   "execution_count": 3,
   "metadata": {},
   "outputs": [],
   "source": [
    "# TODO: Import 'r2_score'\n",
    "from sklearn.metrics import r2_score\n",
    "\n",
    "def performance_metric(y_true, y_predict):\n",
    "    \"\"\" Calculates and returns the performance score between \n",
    "        true and predicted values based on the metric chosen. \"\"\"\n",
    "    \n",
    "    # TODO: Calculate the performance score between 'y_true' and 'y_predict'\n",
    "    score = r2_score(y_true, y_predict)\n",
    "    \n",
    "    # Return the score\n",
    "    return score"
   ]
  },
  {
   "cell_type": "markdown",
   "metadata": {},
   "source": [
    "### Question 2 - Goodness of Fit\n",
    "Assume that a dataset contains five data points and a model made the following predictions for the target variable:\n",
    "\n",
    "| True Value | Prediction |\n",
    "| :-------------: | :--------: |\n",
    "| 3.0 | 2.5 |\n",
    "| -0.5 | 0.0 |\n",
    "| 2.0 | 2.1 |\n",
    "| 7.0 | 7.8 |\n",
    "| 4.2 | 5.3 |\n",
    "\n",
    "Run the code cell below to use the `performance_metric` function and calculate this model's coefficient of determination."
   ]
  },
  {
   "cell_type": "code",
   "execution_count": 4,
   "metadata": {},
   "outputs": [
    {
     "name": "stdout",
     "output_type": "stream",
     "text": [
      "Model has a coefficient of determination, R^2, of 0.923.\n"
     ]
    }
   ],
   "source": [
    "# Calculate the performance of this model\n",
    "score = performance_metric([3, -0.5, 2, 7, 4.2], [2.5, 0.0, 2.1, 7.8, 5.3])\n",
    "print \"Model has a coefficient of determination, R^2, of {:.3f}.\".format(score)"
   ]
  },
  {
   "cell_type": "markdown",
   "metadata": {},
   "source": [
    "* Would you consider this model to have successfully captured the variation of the target variable? \n",
    "* Why or why not?\n",
    "\n"]
  },
  {
   "cell_type": "markdown",
   "metadata": {},
   "source": [
    "**Answer:** I would consider this model to be a very good model to capture variation of the target variable. R^2 value of 0.923 is very high score which means that this model can predict 92.3% of variance in the target variable."
   ]
  },
  {
   "cell_type": "markdown",
   "metadata": {},
   "source": [
    "### Implementation: Shuffle and Split Data\n",
    "Your next implementation requires that you take the Boston housing dataset and split the data into training and testing subsets. Typically, the data is also shuffled into a random order when creating the training and testing subsets to remove any bias in the ordering of the dataset.\n",
    "\n",
    "For the code cell below, you will need to implement the following:\n",
    "- Use `train_test_split` from `sklearn.cross_validation` to shuffle and split the `features` and `prices` data into training and testing sets.\n",
    "  - Split the data into 80% training and 20% testing.\n",
    "  - Set the `random_state` for `train_test_split` to a value of your choice. This ensures results are consistent.\n",
    "- Assign the train and testing splits to `X_train`, `X_test`, `y_train`, and `y_test`."
   ]
  },
  {
   "cell_type": "code",
   "execution_count": 5,
   "metadata": {},
   "outputs": [
    {
     "name": "stdout",
     "output_type": "stream",
     "text": [
      "Training and testing split was successful.\n"
     ]
    }
   ],
   "source": [
    "# TODO: Import 'train_test_split'\n",
    "from sklearn.cross_validation import train_test_split\n",
    "# TODO: Shuffle and split the data into training and testing subsets\n",
    "X_train, X_test, y_train, y_test = train_test_split(features, prices, test_size=0.2, random_state=30)\n",
    "\n",
    "# Success\n",
    "print \"Training and testing split was successful.\""
   ]
  },
  {
   "cell_type": "markdown",
   "metadata": {},
   "source": [
    "### Question 3 - Training and Testing\n",
    "\n",
    "* What is the benefit to splitting a dataset into some ratio of training and testing subsets for a learning algorithm?\n",
    "\n",
    "**Hint:** Think about how overfitting or underfitting is contingent upon how splits on data is done."
   ]
  },
  {
   "cell_type": "markdown",
   "metadata": {},
   "source": [
    "**Answer: ** Splitting a dataset into training and testing sets helps us test our model on new world data of which we know nothing about. We can compare our model on these two sets and see how well it fits the data we already know and the data which is new. This way it helps us prevent overfitting and underfitting the data set."
   ]
  },
  {
   "cell_type": "markdown",
   "metadata": {},
   "source": [
    "----\n",
    "\n",
    "## Analyzing Model Performance\n",
    "In this third section of the project, you'll take a look at several models' learning and testing performances on various subsets of training data. Additionally, you'll investigate one particular algorithm with an increasing `'max_depth'` parameter on the full training set to observe how model complexity affects performance. Graphing your model's performance based on varying criteria can be beneficial in the analysis process, such as visualizing behavior that may not have been apparent from the results alone."
   ]
  },
  {
   "cell_type": "markdown",
   "metadata": {},
   "source": [
    "### Learning Curves\n",
    "The following code cell produces four graphs for a decision tree model with different maximum depths. Each graph visualizes the learning curves of the model for both training and testing as the size of the training set is increased. Note that the shaded region of a learning curve denotes the uncertainty of that curve (measured as the standard deviation). The model is scored on both the training and testing sets using R<sup>2</sup>, the coefficient of determination.  \n",
    "\n",
    "Run the code cell below and use these graphs to answer the following question."
   ]
  },
  {
   "cell_type": "code",
   "execution_count": 6,
   "metadata": {
    "scrolled": false
   },
   "outputs": [
    {
     "data": {
      "image/png": "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\n",
      "text/plain": [
       "<matplotlib.figure.Figure at 0x6ce7390>"
      ]
     },
     "metadata": {},
     "output_type": "display_data"
    }
   ],
   "source": [
    "# Produce learning curves for varying training set sizes and maximum depths\n",
    "vs.ModelLearning(features, prices)"
   ]
  },
  {
   "cell_type": "markdown",
   "metadata": {},
   "source": [
    "### Question 4 - Learning the Data\n",
    "* Choose one of the graphs above and state the maximum depth for the model. \n",
    "* What happens to the score of the training curve as more training points are added? What about the testing curve? \n",
    "* Would having more training points benefit the model? \n",
    "\n"]
  },
  {
   "cell_type": "markdown",
   "metadata": {},
   "source": [
    "**Answer: ** I choose the graph on the upper-right corner with maximum depth = 3. Initially, the training score starts gradually decreasing as more training points are added. But as number of training points reaches 250, we see that the training score becomes almost steady even after adding more points. For testing score, we see that it increase as more training points are added but upto a certain point. As the number of training point reaches 300, we see that the testing score becomes almost constant. After this point, we see that both training and validation curve seem to run in parallel, hence adding more training points would not bring signicificant improvement."
   ]
  },
  {
   "cell_type": "markdown",
   "metadata": {},
   "source": [
    "### Complexity Curves\n",
    "The following code cell produces a graph for a decision tree model that has been trained and validated on the training data using different maximum depths. The graph produces two complexity curves — one for training and one for validation. Similar to the **learning curves**, the shaded regions of both the complexity curves denote the uncertainty in those curves, and the model is scored on both the training and validation sets using the `performance_metric` function.  \n",
    "\n",
    "** Run the code cell below and use this graph to answer the following two questions Q5 and Q6. **"
   ]
  },
  {
   "cell_type": "code",
   "execution_count": 7,
   "metadata": {},
   "outputs": [
    {
     "data": {
      "image/png": "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\n",
      "text/plain": [
       "<matplotlib.figure.Figure at 0xe968b70>"
      ]
     },
     "metadata": {},
     "output_type": "display_data"
    }
   ],
   "source": [
    "vs.ModelComplexity(X_train, y_train)"
   ]
  },
  {
   "cell_type": "markdown",
   "metadata": {},
   "source": [
    "### Question 5 - Bias-Variance Tradeoff\n",
    "* When the model is trained with a maximum depth of 1, does the model suffer from high bias or from high variance? \n",
    "* How about when the model is trained with a maximum depth of 10? What visual cues in the graph justify your conclusions?\n",
    "\n",
    "**Hint:** High bias is a sign of underfitting(model is not complex enough to pick up the nuances in the data) and high variance is a sign of overfitting(model is by-hearting the data and cannot generalize well). Think about which model(depth 1 or 10) aligns with which part of the tradeoff."
   ]
  },
  {
   "cell_type": "markdown",
   "metadata": {},
   "source": [
    "**Answer: ** As we can see, with a maximum depth of 1 the model has low training and validation score. This corresponds to underfitting which means high bias. With a maximum depth of 10, although we get a very high training score but the validation score is low. This corresponds to high variance which means over-fitting."
   ]
  },
  {
   "cell_type": "markdown",
   "metadata": {},
   "source": [
    "### Question 6 - Best-Guess Optimal Model\n",
    "* Which maximum depth do you think results in a model that best generalizes to unseen data? \n",
    "* What intuition lead you to this answer?\n",
    "\n" ]
  },
  {
   "cell_type": "markdown",
   "metadata": {},
   "source": [
    "**Answer: ** By looking at the graph, we can say that maximum depth of 4 gives the best validation score. At this point, both training and validation score are pretty high which leads me to consider it as the optimal model."
   ]
  },
  {
   "cell_type": "markdown",
   "metadata": {},
   "source": [
    "-----\n",
    "\n",
    "## Evaluating Model Performance\n",
    "In this final section of the project, you will construct a model and make a prediction on the client's feature set using an optimized model from `fit_model`."
   ]
  },
  {
   "cell_type": "markdown",
   "metadata": {},
   "source": [
    "### Question 7 - Grid Search\n",
    "* What is the grid search technique?\n",
    "* How it can be applied to optimize a learning algorithm?\n",
    "\n"]
  },
  {
   "cell_type": "markdown",
   "metadata": {},
   "source": [
    "**Answer: ** Grid search is a technique in which we have a set of models which differ from each other in their parameter values, that lie on a grid. We then train each of these models and evaluate it using cross-validation. We then select the one that performed best, i.e. the one with highest cross-validation accuracy that matches with the corresponding parameters. Grid Search can be used to calculate model complexities which in turn help us to determine which model does the best job in generalising. In our project, we applied it above to get the complexity curve for max_depth values of 1 to 10 and evaluated decision tree performance for each of these value."
   ]
  },
  {
   "cell_type": "markdown",
   "metadata": {},
   "source": [
    "### Question 8 - Cross-Validation\n",
    "\n",
    "* What is the k-fold cross-validation training technique? \n",
    "\n",
    "* What benefit does this technique provide for grid search when optimizing a model?\n",
    "\n"]
  },
  {
   "cell_type": "markdown",
   "metadata": {},
   "source": [
    "**Answer: **  k-fold cross-validation splits our data into k bins, uses each bin as testing data and uses rest of the data as training data and validate against testing data. Repeats this process k times and gets the average performance. Using grid search with k-fold cross validation makes sure that all observations are used for both training and validation which prevents us from overoptimizing the model on a single validation set."
   ]
  },
  {
   "cell_type": "markdown",
   "metadata": {},
   "source": [
    "### Implementation: Fitting a Model\n",
    "Your final implementation requires that you bring everything together and train a model using the **decision tree algorithm**. To ensure that you are producing an optimized model, you will train the model using the grid search technique to optimize the `'max_depth'` parameter for the decision tree. The `'max_depth'` parameter can be thought of as how many questions the decision tree algorithm is allowed to ask about the data before making a prediction. Decision trees are part of a class of algorithms called *supervised learning algorithms*.\n",
    "\n",
    "In addition, you will find your implementation is using `ShuffleSplit()` for an alternative form of cross-validation (see the `'cv_sets'` variable). While it is not the K-Fold cross-validation technique you describe in **Question 8**, this type of cross-validation technique is just as useful!. The `ShuffleSplit()` implementation below will create 10 (`'n_splits'`) shuffled sets, and for each shuffle, 20% (`'test_size'`) of the data will be used as the *validation set*. While you're working on your implementation, think about the contrasts and similarities it has to the K-fold cross-validation technique.\n",
    "\n",
    "Please note that ShuffleSplit has different parameters in scikit-learn versions 0.17 and 0.18.\n",
    "For the `fit_model` function in the code cell below, you will need to implement the following:\n",
    "- Use [`DecisionTreeRegressor`](http://scikit-learn.org/stable/modules/generated/sklearn.tree.DecisionTreeRegressor.html) from `sklearn.tree` to create a decision tree regressor object.\n",
    "  - Assign this object to the `'regressor'` variable.\n",
    "- Create a dictionary for `'max_depth'` with the values from 1 to 10, and assign this to the `'params'` variable.\n",
    "- Use [`make_scorer`](http://scikit-learn.org/stable/modules/generated/sklearn.metrics.make_scorer.html) from `sklearn.metrics` to create a scoring function object.\n",
    "  - Pass the `performance_metric` function as a parameter to the object.\n",
    "  - Assign this scoring function to the `'scoring_fnc'` variable.\n",
    "- Use [`GridSearchCV`](http://scikit-learn.org/0.17/modules/generated/sklearn.grid_search.GridSearchCV.html) from `sklearn.grid_search` to create a grid search object.\n",
    "  - Pass the variables `'regressor'`, `'params'`, `'scoring_fnc'`, and `'cv_sets'` as parameters to the object. \n",
    "  - Assign the `GridSearchCV` object to the `'grid'` variable."
   ]
  },
  {
   "cell_type": "code",
   "execution_count": 8,
   "metadata": {},
   "outputs": [],
   "source": [
    "# TODO: Import 'make_scorer', 'DecisionTreeRegressor', and 'GridSearchCV'\n",
    "from sklearn.tree import DecisionTreeRegressor\n",
    "from sklearn.metrics import make_scorer\n",
    "from sklearn.grid_search import GridSearchCV\n",
    "\n",
    "def fit_model(X, y):\n",
    "    \"\"\" Performs grid search over the 'max_depth' parameter for a \n",
    "        decision tree regressor trained on the input data [X, y]. \"\"\"\n",
    "    \n",
    "    # Create cross-validation sets from the training data\n",
    "    # sklearn version 0.18: ShuffleSplit(n_splits=10, test_size=0.1, train_size=None, random_state=None)\n",
    "    # sklearn versiin 0.17: ShuffleSplit(n, n_iter=10, test_size=0.1, train_size=None, random_state=None)\n",
    "    cv_sets = ShuffleSplit(X.shape[0], n_iter = 10, test_size = 0.20, random_state = 0)\n",
    "\n",
    "    # TODO: Create a decision tree regressor object\n",
    "    regressor = DecisionTreeRegressor()\n",
    "\n",
    "    # TODO: Create a dictionary for the parameter 'max_depth' with a range from 1 to 10\n",
    "    params = {'max_depth':range(1,11)}\n",
    "\n",
    "    # TODO: Transform 'performance_metric' into a scoring function using 'make_scorer' \n",
    "    scoring_fnc = make_scorer(performance_metric)\n",
    "\n",
    "    # TODO: Create the grid search cv object --> GridSearchCV()\n",
    "    # Make sure to include the right parameters in the object:\n",
    "    # (estimator, param_grid, scoring, cv) which have values 'regressor', 'params', 'scoring_fnc', and 'cv_sets' respectively.\n",
    "    grid = GridSearchCV(regressor, params, scoring_fnc, cv = cv_sets )\n",
    "\n",
    "    # Fit the grid search object to the data to compute the optimal model\n",
    "    grid = grid.fit(X, y)\n",
    "\n",
    "    # Return the optimal model after fitting the data\n",
    "    return grid.best_estimator_"
   ]
  },
  {
   "cell_type": "markdown",
   "metadata": {},
   "source": [
    "### Making Predictions\n",
    "Once a model has been trained on a given set of data, it can now be used to make predictions on new sets of input data. In the case of a *decision tree regressor*, the model has learned *what the best questions to ask about the input data are*, and can respond with a prediction for the **target variable**. You can use these predictions to gain information about data where the value of the target variable is unknown — such as data the model was not trained on."
   ]
  },
  {
   "cell_type": "markdown",
   "metadata": {},
   "source": [
    "### Question 9 - Optimal Model\n",
    "\n",
    "* What maximum depth does the optimal model have? How does this result compare to your guess in **Question 6**?  \n",
    "\n",
    "Run the code block below to fit the decision tree regressor to the training data and produce an optimal model."
   ]
  },
  {
   "cell_type": "code",
   "execution_count": 9,
   "metadata": {
    "scrolled": true
   },
   "outputs": [
    {
     "name": "stdout",
     "output_type": "stream",
     "text": [
      "Parameter 'max_depth' is 4 for the optimal model.\n"
     ]
    }
   ],
   "source": [
    "# Fit the training data to the model using grid search\n",
    "reg = fit_model(X_train, y_train)\n",
    "\n",
    "# Produce the value for 'max_depth'\n",
    "print \"Parameter 'max_depth' is {} for the optimal model.\".format(reg.get_params()['max_depth'])"
   ]
  },
  {
   "cell_type": "markdown",
   "metadata": {},
   "source": [
    "\n",
    "**Answer: ** Optimal model has the maximum depth of 4 which exactly matches to my guess in question 6."
   ]
  },
  {
   "cell_type": "markdown",
   "metadata": {},
   "source": [
    "### Question 10 - Predicting Selling Prices\n",
    "Imagine that you were a real estate agent in the Boston area looking to use this model to help price homes owned by your clients that they wish to sell. You have collected the following information from three of your clients:\n",
    "\n",
    "| Feature | Client 1 | Client 2 | Client 3 |\n",
    "| :---: | :---: | :---: | :---: |\n",
    "| Total number of rooms in home | 5 rooms | 4 rooms | 8 rooms |\n",
    "| Neighborhood poverty level (as %) | 17% | 32% | 3% |\n",
    "| Student-teacher ratio of nearby schools | 15-to-1 | 22-to-1 | 12-to-1 |\n",
    "\n",
    "* What price would you recommend each client sell his/her home at? \n",
    "* Do these prices seem reasonable given the values for the respective features? \n",
    "\n",
    "Run the code block below to have your optimized model make predictions for each client's home."
   ]
  },
  {
   "cell_type": "code",
   "execution_count": 20,
   "metadata": {},
   "outputs": [
    {
     "name": "stdout",
     "output_type": "stream",
     "text": [
      "Predicted selling price for Client 1's home: $409,752.00\n",
      "Predicted selling price for Client 2's home: $220,886.84\n",
      "Predicted selling price for Client 3's home: $937,650.00\n"
     ]
    }
   ],
   "source": [
    "# Produce a matrix for client data\n",
    "client_data = [[5, 17, 15], # Client 1\n",
    "               [4, 32, 22], # Client 2\n",
    "               [8, 3, 12]]  # Client 3\n",
    "\n",
    "# Show predictions\n",
    "for i, price in enumerate(reg.predict(client_data)):\n",
    "    print \"Predicted selling price for Client {}'s home: ${:,.2f}\".format(i+1, price)"
   ]
  },
  {
   "cell_type": "markdown",
   "metadata": {},
   "source": [
    "**Answer: ** I would recommend following prices for client 1, 2 and 3 respectively :  \\$409,752.00, \\$220,886.84, \\$937,650.00\n",
    "\n",
    "From our exploratory analysis we got the following values-\n",
    "Minimum price: \\$105,000.00 ; \n",
    "Maximum price: \\$1,024,800.00 ; \n",
    "Mean price: \\$454,342.94 ;  \n",
    "Median price \\$438,900.00 ; \n",
    "Standard deviation of prices: \\$165,171.13\n",
    "\n",
    "General intuition for feature set : \n",
    "More Rooms - Higher Price; \n",
    "High LSTAT - Low Price; \n",
    "High PTRatio - Low Price\n",
    "\n",
    "Client 1 : The price predicted is very well within one standard deviation from the mean. Also, it has medium number rooms, LSTAT and PTRatio compared to all ither clients. Hence, it is reasonable enough to have this price that lies in between.\n",
    "\n",
    "Client 2 : The predicted price is within two standard deviations from the mean. Also, it has the lowest number of rooms and highest LSTAT & PTRatio which makes sense for it to have the lowest price. Its not a very good prediction but is still acceptable.\n",
    "\n",
    "Client 3 : The predicted price is above three standard deviations from the mean and very close to the maximum price which is quite objectionable. It has highest number of rooms and lowest PTRatio and LSTAT ratio which should clearly set its price to highest among the three houses but a value of \\$937,650.00 is still pretty high. Hence, I won't consider this price to be acceptable. \n"
   ]
  },
  {
   "cell_type": "markdown",
   "metadata": {},
   "source": [
    "### Sensitivity\n",
    "An optimal model is not necessarily a robust model. Sometimes, a model is either too complex or too simple to sufficiently generalize to new data. Sometimes, a model could use a learning algorithm that is not appropriate for the structure of the data given. Other times, the data itself could be too noisy or contain too few samples to allow a model to adequately capture the target variable — i.e., the model is underfitted. \n",
    "\n",
    "**Run the code cell below to run the `fit_model` function ten times with different training and testing sets to see how the prediction for a specific client changes with respect to the data it's trained on.**"
   ]
  },
  {
   "cell_type": "code",
   "execution_count": 21,
   "metadata": {},
   "outputs": [
    {
     "name": "stdout",
     "output_type": "stream",
     "text": [
      "Trial 1: $391,183.33\n",
      "Trial 2: $419,700.00\n",
      "Trial 3: $415,800.00\n",
      "Trial 4: $420,622.22\n",
      "Trial 5: $418,377.27\n",
      "Trial 6: $411,931.58\n",
      "Trial 7: $399,663.16\n",
      "Trial 8: $407,232.00\n",
      "Trial 9: $351,577.61\n",
      "Trial 10: $413,700.00\n",
      "\n",
      "Range in prices: $69,044.61\n"
     ]
    }
   ],
   "source": [
    "vs.PredictTrials(features, prices, fit_model, client_data)"
   ]
  },
  {
   "cell_type": "markdown",
   "metadata": {},
   "source": [
    "### Question 11 - Applicability\n",
    "\n",
    "* In a few sentences, discuss whether the constructed model should or should not be used in a real-world setting.  \n",
    "\n",
    "**Hint:** Take a look at the range in prices as calculated in the code snippet above. Some questions to answering:\n",
    "- How relevant today is data that was collected from 1978? How important is inflation?\n",
    "- Are the features present in the data sufficient to describe a home? Do you think factors like quality of apppliances in the home, square feet of the plot area, presence of pool or not etc should factor in?\n",
    "- Is the model robust enough to make consistent predictions?\n",
    "- Would data collected in an urban city like Boston be applicable in a rural city?\n",
    "- Is it fair to judge the price of an individual home based on the characteristics of the entire neighborhood?"
   ]
  },
  {
   "cell_type": "markdown",
   "metadata": {},
   "source": [
    "**Answer: ** As per my understanding, we should not use this model in a real-world setting. Since this data was collected in 1978, I would say it has become obsolete as house prices have changed rigourously over the years. Also, the number of features taken into account is limited to only three which is very less to calculate the actual value of a house. There are many other features which pay an influential role such as lot size, no. of bathrooms, proximity to public transport, recreational area, etc. As we saw earlier, the range in prices for the same house is \\$69,044 which is quite high as this amount makes a lot of difference whether someone is uyinga house or not.Hence, I would claim the model is not robust enough. This pricing data is only for Boston metrolpolitan area, hence this model would succumb to predicting prices at other cities as well as rural areas."
   ]
  },
  {
   "cell_type": "markdown",
   "metadata": {},
   "source": [
    "> **Note**:  \n",
   ]
  }
 ],
 "metadata": {
  "anaconda-cloud": {},
  "kernelspec": {
   "display_name": "Python 2",
   "language": "python",
   "name": "python2"
  },
  "language_info": {
   "codemirror_mode": {
    "name": "ipython",
    "version": 2
   },
   "file_extension": ".py",
   "mimetype": "text/x-python",
   "name": "python",
   "nbconvert_exporter": "python",
   "pygments_lexer": "ipython2",
   "version": "2.7.8"
  }
 },
 "nbformat": 4,
 "nbformat_minor": 1
}
